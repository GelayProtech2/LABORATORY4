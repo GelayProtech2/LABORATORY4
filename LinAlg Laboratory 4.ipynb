{
 "cells": [
  {
   "cell_type": "markdown",
   "metadata": {},
   "source": [
    "# Linear Algebra for CpE"
   ]
  },
  {
   "cell_type": "markdown",
   "metadata": {},
   "source": [
    "# Laboratory 4 : Vector Operations\n",
    "Now that you have a fundamental knowledge about linear combination, we'll try to apply the fundamental operations"
   ]
  },
  {
   "cell_type": "markdown",
   "metadata": {},
   "source": [
    "# Objectives"
   ]
  },
  {
   "cell_type": "markdown",
   "metadata": {},
   "source": [
    "At the end of this activity you will be able to:\n",
    "\n",
    "1.Referesh knowledge on vector operations while being familiar with new operations such as products.\n",
    "\n",
    "2.Visualize vector operations.\n",
    "\n",
    "3.Perform vector operations using Python."
   ]
  },
  {
   "cell_type": "markdown",
   "metadata": {},
   "source": [
    "# Discussion"
   ]
  },
  {
   "cell_type": "code",
   "execution_count": 11,
   "metadata": {},
   "outputs": [],
   "source": [
    "import numpy as np\n",
    "import matplotlib.pyplot as plt\n",
    "%matplotlib inline"
   ]
  },
  {
   "cell_type": "markdown",
   "metadata": {},
   "source": [
    "We have dealt with some of the vector operations in the last module, now we will dwell into more operations. In this laboratory, we will tackle addition,multiplication,division and the inner product of a vector."
   ]
  },
  {
   "cell_type": "markdown",
   "metadata": {},
   "source": [
    "# Vector Addition\n",
    "We have encountered vector before especially with your last activity. Vector addition is simply the element-wise addition of the scalar values of the vectors. Let's take the following vectors as a sample:\n",
    "\n",
    "$$A = \\begin{bmatrix}1\\\\2\\\\0\\end{bmatrix}, B= \\begin{bmatrix}3\\\\1\\\\-2 \\end{bmatrix}$$"
   ]
  },
  {
   "cell_type": "markdown",
   "metadata": {},
   "source": [
    "So if do a vector addition of these two vectors we'll get:\n",
    "\n",
    "$$A + B = \\begin{bmatrix}4\\\\3\\\\-2\\end{bmatrix}$$\n",
    "We can progammatically solve this using np.add() or simply using +."
   ]
  },
  {
   "cell_type": "code",
   "execution_count": 2,
   "metadata": {},
   "outputs": [],
   "source": [
    "A = np.array([1,2,0])\n",
    "B = np.array([3,1,-2])"
   ]
  },
  {
   "cell_type": "code",
   "execution_count": 3,
   "metadata": {},
   "outputs": [
    {
     "data": {
      "text/plain": [
       "array([ 4,  3, -2])"
      ]
     },
     "execution_count": 3,
     "metadata": {},
     "output_type": "execute_result"
    }
   ],
   "source": [
    "A+B"
   ]
  },
  {
   "cell_type": "code",
   "execution_count": 4,
   "metadata": {},
   "outputs": [
    {
     "data": {
      "text/plain": [
       "array([ 4,  3, -2])"
      ]
     },
     "execution_count": 4,
     "metadata": {},
     "output_type": "execute_result"
    }
   ],
   "source": [
    "np.add(A,B)"
   ]
  },
  {
   "cell_type": "markdown",
   "metadata": {},
   "source": [
    "# Vector Subtraction\n",
    "Vector subtraction is similar to your vector addition but you would need to scale the second vector using a negative scalar that is usuall $-1$. So if we subtract vector $B$ from vector $A$ we get:\n",
    "\n",
    "$$A-B = \\begin{bmatrix}-2\\\\1\\\\2\\end{bmatrix}$$\n",
    "In Python, this can be achieved by using np.subtract() or -"
   ]
  },
  {
   "cell_type": "code",
   "execution_count": 5,
   "metadata": {},
   "outputs": [
    {
     "data": {
      "text/plain": [
       "array([-2,  1,  2])"
      ]
     },
     "execution_count": 5,
     "metadata": {},
     "output_type": "execute_result"
    }
   ],
   "source": [
    "np.subtract(A,B)"
   ]
  },
  {
   "cell_type": "code",
   "execution_count": 6,
   "metadata": {},
   "outputs": [
    {
     "data": {
      "text/plain": [
       "array([-2,  1,  2])"
      ]
     },
     "execution_count": 6,
     "metadata": {},
     "output_type": "execute_result"
    }
   ],
   "source": [
    "A-B"
   ]
  },
  {
   "cell_type": "markdown",
   "metadata": {},
   "source": [
    "# Vector Multiplication\n",
    "Vector multiplication, like addition does its operations element-wise. So basic vector multiplication can be achieved by multiplying the elements or the scalars of the vectors individually. So:$$A * B = \\begin{bmatrix}3\\\\2\\\\0\\end{bmatrix}$$We can implement this in code by using np.multiply() or simply operating with *."
   ]
  },
  {
   "cell_type": "code",
   "execution_count": 7,
   "metadata": {},
   "outputs": [
    {
     "data": {
      "text/plain": [
       "array([3, 2, 0])"
      ]
     },
     "execution_count": 7,
     "metadata": {},
     "output_type": "execute_result"
    }
   ],
   "source": [
    "np.multiply(A,B)"
   ]
  },
  {
   "cell_type": "code",
   "execution_count": 8,
   "metadata": {},
   "outputs": [
    {
     "data": {
      "text/plain": [
       "array([3, 2, 0])"
      ]
     },
     "execution_count": 8,
     "metadata": {},
     "output_type": "execute_result"
    }
   ],
   "source": [
    "A*B"
   ]
  },
  {
   "cell_type": "markdown",
   "metadata": {},
   "source": [
    "# Vector Division\n",
    "Dividing a vector by another is uncommon, but if the situation specifies that each elements or scalars of the vector would be divided individually we can perform this by:$$A./B = \\begin{bmatrix}\\frac{1}{3}\\\\2\\\\0\\end{bmatrix}$$Take note that the notation we used here is $./$ for element-wise division, this notation is based in a MATLab notation for element-wise division. This can be achieved in Python using np.divide() or /."
   ]
  },
  {
   "cell_type": "code",
   "execution_count": 9,
   "metadata": {},
   "outputs": [
    {
     "data": {
      "text/plain": [
       "array([ 0.33333333,  2.        , -0.        ])"
      ]
     },
     "execution_count": 9,
     "metadata": {},
     "output_type": "execute_result"
    }
   ],
   "source": [
    "np.divide(A,B)"
   ]
  },
  {
   "cell_type": "code",
   "execution_count": 10,
   "metadata": {},
   "outputs": [
    {
     "data": {
      "text/plain": [
       "array([ 0.33333333,  2.        , -0.        ])"
      ]
     },
     "execution_count": 10,
     "metadata": {},
     "output_type": "execute_result"
    }
   ],
   "source": [
    "A/B"
   ]
  },
  {
   "cell_type": "markdown",
   "metadata": {},
   "source": [
    "# Modulus of a Vector\n",
    "The modulus of a vector or the magnitude of a vector can be determined using the Pythagorean theorem. Given the vector $A$ and its scalars denoted as $a_n$ where $n$ is the index of the scalar. So if we have:$$A = \\begin{bmatrix}1\\\\2\\end{bmatrix}$$We can compute the magnitude as:$$||A|| = \\sqrt{a_1^2 + a_2^2} = \\sqrt{1^2 + 2^2} = \\sqrt{5}$$So if we have a matrix with more parameters such as:$$B=\\begin{bmatrix}2\\\\5\\\\-1\\\\0\\end{bmatrix}$$We can generalize the Pythagorean theorem to compute for the magnitude as:$$||B|| = \\sqrt{b_1^2 + b_2^2 + b_3^2 + ... +b_n^2} = \\sqrt{\\sum_{n=1}^{N}b_n^2}$$And this equation is now called a Euclidian distance or the Euclidean Norm. We can implement this explicitly by for loops or using np.linalg.norm() to get the Euclidian Norm."
   ]
  },
  {
   "cell_type": "code",
   "execution_count": 11,
   "metadata": {},
   "outputs": [],
   "source": [
    "A = np.array([1,2])\n",
    "B = np.array([2,5,-1,0])"
   ]
  },
  {
   "cell_type": "code",
   "execution_count": 12,
   "metadata": {},
   "outputs": [
    {
     "data": {
      "text/plain": [
       "2.23606797749979"
      ]
     },
     "execution_count": 12,
     "metadata": {},
     "output_type": "execute_result"
    }
   ],
   "source": [
    "np.linalg.norm(A)"
   ]
  },
  {
   "cell_type": "code",
   "execution_count": 13,
   "metadata": {},
   "outputs": [
    {
     "data": {
      "text/plain": [
       "5.477225575051661"
      ]
     },
     "execution_count": 13,
     "metadata": {},
     "output_type": "execute_result"
    }
   ],
   "source": [
    "np.linalg.norm(B)"
   ]
  },
  {
   "cell_type": "markdown",
   "metadata": {},
   "source": [
    "# Vector Dot Product / Inner Product\n",
    "The inner product of a vector is the sum of the products of each elements of the vectors. So given vectors $H$ and $G$ below:$$H=\\begin{bmatrix}1\\\\3\\\\6\\end{bmatrix}, G = \\begin{bmatrix}5\\\\2\\\\1\\end{bmatrix}$$We first take the element-wise product of the vectors:$$H*G = \\begin{bmatrix}5\\\\6\\\\6\\end{bmatrix}$$Then we take the sum of the products, making it the inner product of a vector:$$H\\cdot G = 17$$You can solve for the inner product using an explicit function, np.inner() or the @ operator."
   ]
  },
  {
   "cell_type": "code",
   "execution_count": 4,
   "metadata": {},
   "outputs": [],
   "source": [
    "H = np.array([1,3,6])\n",
    "G = np.array([5,2,1])"
   ]
  },
  {
   "cell_type": "code",
   "execution_count": 5,
   "metadata": {},
   "outputs": [
    {
     "data": {
      "text/plain": [
       "17"
      ]
     },
     "execution_count": 5,
     "metadata": {},
     "output_type": "execute_result"
    }
   ],
   "source": [
    "np.inner(H,G)"
   ]
  },
  {
   "cell_type": "code",
   "execution_count": 6,
   "metadata": {},
   "outputs": [
    {
     "data": {
      "text/plain": [
       "17"
      ]
     },
     "execution_count": 6,
     "metadata": {},
     "output_type": "execute_result"
    }
   ],
   "source": [
    "H @ G"
   ]
  },
  {
   "cell_type": "markdown",
   "metadata": {},
   "source": [
    "# Activity"
   ]
  },
  {
   "cell_type": "markdown",
   "metadata": {},
   "source": [
    "# Task 1\n",
    "Make an explicit function (not using any of NumPy's preset functions) solving the modulus of a vector using the Euclidian Norm formula:$$||X|| = \\sqrt{\\sum_{n=1}^{N}x_n^2}$$Create a program flowchart for your algorithm and explain it in your methodology. Create 6 different vectors which their element count should not be lower than 4 elements. Explain the results at the results discussion section while comparing them to the np.linalg.norm() function."
   ]
  },
  {
   "cell_type": "code",
   "execution_count": 14,
   "metadata": {},
   "outputs": [
    {
     "name": "stdout",
     "output_type": "stream",
     "text": [
      "15.165750888103101\n",
      "7.3484692283495345\n",
      "25.865034312755125\n",
      "7.0710678118654755\n",
      "48.60041152089147\n",
      "111.8257573191436\n"
     ]
    }
   ],
   "source": [
    "from math import sqrt\n",
    "\n",
    "A = [9, 8, 7, 6]\n",
    "B = [2, 3, 4, 5]\n",
    "C = [22, 12, 5, 4]\n",
    "D = [3, 6, 2, 1]\n",
    "E = [44, 1, 5, 20]\n",
    "F = [100, 50, 2, 1]\n",
    "\n",
    "\n",
    "a = sqrt(9**2 + 8**2 + 7**2 + 6**2)\n",
    "b = sqrt(2**2 + 3**2 + 4**2 + 5**2)\n",
    "c = sqrt(22**2 + 12**2 + 5**2 + 4**2)\n",
    "d = sqrt(3**2 + 6**2 + 2**2 + 1**2)\n",
    "e = sqrt(44**2 + 1**2 + 5**2 + 20**2)\n",
    "f = sqrt(100**2 + 50**2 + 2**2 + 1**2)\n",
    "\n",
    "letter = [a,b,c,d,e,f]\n",
    "\n",
    "for i in range(6):\n",
    "    print(letter[i])\n",
    "\n"
   ]
  },
  {
   "cell_type": "code",
   "execution_count": 19,
   "metadata": {},
   "outputs": [
    {
     "name": "stdout",
     "output_type": "stream",
     "text": [
      "The Euclidian Norm of vector a: 15.968719422671311\n",
      "The Euclidian Norm of vector b: 7.416198487095663\n",
      "The Euclidian Norm of vector c: 12.409673645990857\n",
      "The Euclidian Norm of vector d: 70.14983962918234\n",
      "The Euclidian Norm of vector e: 104.35516278555652\n",
      "The Euclidian Norm of vector f: 51.54609587543949\n"
     ]
    }
   ],
   "source": [
    "def numpy_euclidian_norm(vect):\n",
    "    numpy_euc_norm = np.linalg.norm(vect)\n",
    "    return numpy_euc_norm\n",
    "\n",
    "\n",
    "print(\"The Euclidian Norm of vector a:\",  numpy_euclidian_norm(vecta))\n",
    "print(\"The Euclidian Norm of vector b:\",  numpy_euclidian_norm(vectb))\n",
    "print(\"The Euclidian Norm of vector c:\",  numpy_euclidian_norm(vectc))\n",
    "print(\"The Euclidian Norm of vector d:\",  numpy_euclidian_norm(vectd))\n",
    "print(\"The Euclidian Norm of vector e:\",  numpy_euclidian_norm(vecte))\n",
    "print(\"The Euclidian Norm of vector f:\",  numpy_euclidian_norm(vectf))"
   ]
  },
  {
   "cell_type": "code",
   "execution_count": null,
   "metadata": {},
   "outputs": [],
   "source": []
  },
  {
   "cell_type": "markdown",
   "metadata": {},
   "source": [
    "# Task 2\n",
    "Make an explicit function (not using any of NumPy's preset functions nor the @ operator) solving the inner product of two vectors using the inner product formula:$$A\\cdot B = \\sum_{n=1}^{N} a_n \\times b_n $$$$whereas: N = len(A) = len(B)$$Create a program flowchart for your algorithm and explain it in your methodology. Create 5 distinct pairs vectors which their element count should not be lower than 5 elements. Explain the results at the results discussion section while comparing them to the np.inner() function."
   ]
  },
  {
   "cell_type": "code",
   "execution_count": 4,
   "metadata": {},
   "outputs": [],
   "source": [
    "#1st pair of vector\n",
    "vecta = np.array([9,8,7,6,5])                        \n",
    "vectb = np.array([5,2,3,4,1])  \n",
    "\n",
    "#2nd pair of vector\n",
    "vectc = np.array([7,6,2,1,8])\n",
    "vectd = np.array([20,41,52,10,6])       \n",
    "\n",
    "#3rd pair of vector\n",
    "vecte = np.array([22,33,44,55,66]) \n",
    "vectf = np.array([12,36,34,5,6])   \n",
    "\n",
    "#4th pair of vector\n",
    "vectg = np.array([77,66,22,11,88])  \n",
    "vecth = np.array([40,18,4,5,6])\n",
    "\n",
    "#5th pair of vector\n",
    "vecti = np.array([23,12,5,4,11])                      \n",
    "vectj = np.array([31,27,14,9,6])"
   ]
  },
  {
   "cell_type": "code",
   "execution_count": 5,
   "metadata": {},
   "outputs": [
    {
     "name": "stdout",
     "output_type": "stream",
     "text": [
      "The dot product of vector a and vector b: 111\n",
      "The dot product of vector c and vector d: 548\n",
      "The dot product of vector e and vector f: 3619\n",
      "The dot product of vector g and vector h: 4939\n",
      "The dot product of vector i and vector j: 1209\n"
     ]
    }
   ],
   "source": [
    "def my_dot_product(veca, vecb):\n",
    "    # multiplies the vector pairs\n",
    "    multiply_pair = veca*vecb\n",
    "    # gets the sum of the multiply_pair\n",
    "    sum_vect = 0\n",
    "    for elements in range(len(multiply_pair)):    \n",
    "        sum_vect = sum_vect + multiply_pair[elements]; \n",
    "    return(sum_vect)\n",
    "\n",
    "print(\"The dot product of vector a and vector b:\",  my_dot_product(vecta,vectb))\n",
    "print(\"The dot product of vector c and vector d:\",  my_dot_product(vectc,vectd))\n",
    "print(\"The dot product of vector e and vector f:\",  my_dot_product(vecte,vectf))\n",
    "print(\"The dot product of vector g and vector h:\",  my_dot_product(vectg,vecth))\n",
    "print(\"The dot product of vector i and vector j:\",  my_dot_product(vecti,vectj))"
   ]
  },
  {
   "cell_type": "code",
   "execution_count": 6,
   "metadata": {},
   "outputs": [
    {
     "name": "stdout",
     "output_type": "stream",
     "text": [
      "The dot product of vector a and vector b: 111\n",
      "The dot product of vector c and vector d: 548\n",
      "The dot product of vector e and vector f: 3619\n",
      "The dot product of vector g and vector h: 4939\n",
      "The dot product of vector i and vector j: 1209\n"
     ]
    }
   ],
   "source": [
    "def numpy_dot_product(veca,vecb):\n",
    "    numpy_dot_prod = np.inner(veca, vecb)\n",
    "    return numpy_dot_prod\n",
    "\n",
    "print(\"The dot product of vector a and vector b:\",  my_dot_product(vecta,vectb))\n",
    "print(\"The dot product of vector c and vector d:\",  my_dot_product(vectc,vectd))\n",
    "print(\"The dot product of vector e and vector f:\",  my_dot_product(vecte,vectf))\n",
    "print(\"The dot product of vector g and vector h:\",  my_dot_product(vectg,vecth))\n",
    "print(\"The dot product of vector i and vector j:\",  my_dot_product(vecti,vectj))"
   ]
  },
  {
   "cell_type": "markdown",
   "metadata": {},
   "source": [
    "# Task 3\n",
    "Code the following vector operation and solve them using the given vector values\n",
    "\n",
    "$$ ((A^2 + B^2 + C^2) * (A * (B + A*B)./C))*||A + B + C||$$$$A = \\begin{bmatrix}-0.4\\\\0.3\\\\-0.6\\end{bmatrix}, B = \\begin{bmatrix}-0.2\\\\0.2\\\\1\\end{bmatrix}, C = \\begin{bmatrix}0.2\\\\0.1\\\\-0.5\\end{bmatrix}$$\n",
    "Create a program flowchart for your algorithm and explain it in your methodology. In your results, compare your answer to the expected output, visualize, and explain the resulting vector using a 3D plot.\n",
    "\n",
    "Expected answer:\n",
    "array([0.34769805, 1.13001866, 0.6953961 ])\n",
    "\n"
   ]
  },
  {
   "cell_type": "code",
   "execution_count": 13,
   "metadata": {},
   "outputs": [
    {
     "name": "stdout",
     "output_type": "stream",
     "text": [
      "[0.34769805 1.13001866 0.6953961 ]\n"
     ]
    }
   ],
   "source": [
    "A = np.array([-0.4,0.3,-0.6])\n",
    "B = np.array([-0.2,0.2,1])\n",
    "C = np.array([0.2,0.1,-0.5])\n",
    "\n",
    "A = (A@A + B@B + C@C)\n",
    "B = (A*(B+A*B)/C)\n",
    "C = (np.linalg.norm(A+B+C))\n",
    "\n",
    "final = first_p * second_p * third_p\n",
    "\n",
    "print(final)"
   ]
  },
  {
   "cell_type": "code",
   "execution_count": 14,
   "metadata": {},
   "outputs": [
    {
     "data": {
      "image/png": "[encoded data removed]",
      "text/plain": [
       "<Figure size 432x288 with 1 Axes>"
      ]
     },
     "metadata": {
      "needs_background": "light"
     },
     "output_type": "display_data"
    }
   ],
   "source": [
    "fig = plt.figure()\n",
    "ax = fig.gca(projection='3d')\n",
    "ax.quiver(0, 0, 0, final[0], final[1], final[2], colors='blue')\n",
    "ax.set_xlim([0, 1.2])\n",
    "ax.set_ylim([0, 1.2])\n",
    "ax.set_zlim([0, 1.2])\n",
    "plt.show()"
   ]
  },
  {
   "cell_type": "markdown",
   "metadata": {},
   "source": [
    "# Conclusion guide\n",
    "For your conclusion synthesize the concept and application of the laboratory. Briefly discuss what you have learn and achieved in this activity."
   ]
  },
  {
   "cell_type": "code",
   "execution_count": null,
   "metadata": {},
   "outputs": [],
   "source": []
  }
 ],
 "metadata": {
  "kernelspec": {
   "display_name": "Python 3",
   "language": "python",
   "name": "python3"
  },
  "language_info": {
   "codemirror_mode": {
    "name": "ipython",
    "version": 3
   },
   "file_extension": ".py",
   "mimetype": "text/x-python",
   "name": "python",
   "nbconvert_exporter": "python",
   "pygments_lexer": "ipython3",
   "version": "3.8.3"
  }
 },
 "nbformat": 4,
 "nbformat_minor": 4
}
